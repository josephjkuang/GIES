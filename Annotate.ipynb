{
 "cells": [
  {
   "cell_type": "code",
   "execution_count": 8,
   "metadata": {},
   "outputs": [],
   "source": [
    "import imageio\n",
    "def create_images(video_path, frame_step):\n",
    "    for i in range(1, 51):\n",
    "        video = imageio.get_reader(video_path + 'video_' + str(i) + '.mp4')\n",
    "        for j in range(0, int(video.count_frames()), frame_step):\n",
    "            frame = video.get_data(j)\n",
    "            imageio.imwrite('images/' + str(i) + 'f' + str(j) + '.jpg', frame)\n",
    "\n",
    "create_images('./data/finger/', 5)\n",
    "            "
   ]
  },
  {
   "cell_type": "code",
   "execution_count": 11,
   "metadata": {},
   "outputs": [
    {
     "name": "stdout",
     "output_type": "stream",
     "text": [
      "['1f0.jpg', '1f5.jpg', '1f10.jpg', '1f15.jpg', '1f20.jpg', '1f25.jpg', '1f30.jpg', '1f35.jpg', '1f40.jpg', '1f45.jpg', '2f0.jpg', '2f5.jpg', '2f10.jpg', '2f15.jpg', '2f20.jpg', '2f25.jpg', '2f30.jpg', '2f35.jpg', '2f40.jpg', '2f45.jpg', '3f0.jpg', '3f5.jpg', '3f10.jpg', '3f15.jpg', '3f20.jpg', '3f25.jpg', '3f30.jpg', '3f35.jpg', '3f40.jpg', '3f45.jpg', '4f0.jpg', '4f5.jpg', '4f10.jpg', '4f15.jpg', '4f20.jpg', '4f25.jpg', '4f30.jpg', '4f35.jpg', '4f40.jpg', '4f45.jpg', '5f0.jpg', '5f5.jpg', '5f10.jpg', '5f15.jpg', '5f20.jpg', '5f25.jpg', '5f30.jpg', '5f35.jpg', '5f40.jpg', '5f45.jpg', '6f0.jpg', '6f5.jpg', '6f10.jpg', '6f15.jpg', '6f20.jpg', '6f25.jpg', '6f30.jpg', '6f35.jpg', '6f40.jpg', '6f45.jpg', '7f0.jpg', '7f5.jpg', '7f10.jpg', '7f15.jpg', '7f20.jpg', '7f25.jpg', '7f30.jpg', '7f35.jpg', '7f40.jpg', '7f45.jpg', '8f0.jpg', '8f5.jpg', '8f10.jpg', '8f15.jpg', '8f20.jpg', '8f25.jpg', '8f30.jpg', '8f35.jpg', '8f40.jpg', '8f45.jpg', '9f0.jpg', '9f5.jpg', '9f10.jpg', '9f15.jpg', '9f20.jpg', '9f25.jpg', '9f30.jpg', '9f35.jpg', '9f40.jpg', '9f45.jpg', '10f0.jpg', '10f5.jpg', '10f10.jpg', '10f15.jpg', '10f20.jpg', '10f25.jpg', '10f30.jpg', '10f35.jpg', '10f40.jpg', '10f45.jpg', '11f0.jpg', '11f5.jpg', '11f10.jpg', '11f15.jpg', '11f20.jpg', '11f25.jpg', '11f30.jpg', '11f35.jpg', '11f40.jpg', '11f45.jpg', '12f0.jpg', '12f5.jpg', '12f10.jpg', '12f15.jpg', '12f20.jpg', '12f25.jpg', '12f30.jpg', '12f35.jpg', '12f40.jpg', '12f45.jpg', '13f0.jpg', '13f5.jpg', '13f10.jpg', '13f15.jpg', '13f20.jpg', '13f25.jpg', '13f30.jpg', '13f35.jpg', '13f40.jpg', '13f45.jpg', '14f0.jpg', '14f5.jpg', '14f10.jpg', '14f15.jpg', '14f20.jpg', '14f25.jpg', '14f30.jpg', '14f35.jpg', '14f40.jpg', '14f45.jpg', '15f0.jpg', '15f5.jpg', '15f10.jpg', '15f15.jpg', '15f20.jpg', '15f25.jpg', '15f30.jpg', '15f35.jpg', '15f40.jpg', '15f45.jpg', '16f0.jpg', '16f5.jpg', '16f10.jpg', '16f15.jpg', '16f20.jpg', '16f25.jpg', '16f30.jpg', '16f35.jpg', '16f40.jpg', '16f45.jpg', '17f0.jpg', '17f5.jpg', '17f10.jpg', '17f15.jpg', '17f20.jpg', '17f25.jpg', '17f30.jpg', '17f35.jpg', '17f40.jpg', '17f45.jpg', '18f0.jpg', '18f5.jpg', '18f10.jpg', '18f15.jpg', '18f20.jpg', '18f25.jpg', '18f30.jpg', '18f35.jpg', '18f40.jpg', '18f45.jpg', '19f0.jpg', '19f5.jpg', '19f10.jpg', '19f15.jpg', '19f20.jpg', '19f25.jpg', '19f30.jpg', '19f35.jpg', '19f40.jpg', '19f45.jpg', '20f0.jpg', '20f5.jpg', '20f10.jpg', '20f15.jpg', '20f20.jpg', '20f25.jpg', '20f30.jpg', '20f35.jpg', '20f40.jpg', '20f45.jpg', '21f0.jpg', '21f5.jpg', '21f10.jpg', '21f15.jpg', '21f20.jpg', '21f25.jpg', '21f30.jpg', '21f35.jpg', '21f40.jpg', '21f45.jpg', '22f0.jpg', '22f5.jpg', '22f10.jpg', '22f15.jpg', '22f20.jpg', '22f25.jpg', '22f30.jpg', '22f35.jpg', '22f40.jpg', '22f45.jpg', '23f0.jpg', '23f5.jpg', '23f10.jpg', '23f15.jpg', '23f20.jpg', '23f25.jpg', '23f30.jpg', '23f35.jpg', '23f40.jpg', '23f45.jpg', '24f0.jpg', '24f5.jpg', '24f10.jpg', '24f15.jpg', '24f20.jpg', '24f25.jpg', '24f30.jpg', '24f35.jpg', '24f40.jpg', '24f45.jpg', '25f0.jpg', '25f5.jpg', '25f10.jpg', '25f15.jpg', '25f20.jpg', '25f25.jpg', '25f30.jpg', '25f35.jpg', '25f40.jpg', '25f45.jpg', '26f0.jpg', '26f5.jpg', '26f10.jpg', '26f15.jpg', '26f20.jpg', '26f25.jpg', '26f30.jpg', '26f35.jpg', '26f40.jpg', '26f45.jpg', '27f0.jpg', '27f5.jpg', '27f10.jpg', '27f15.jpg', '27f20.jpg', '27f25.jpg', '27f30.jpg', '27f35.jpg', '27f40.jpg', '27f45.jpg', '28f0.jpg', '28f5.jpg', '28f10.jpg', '28f15.jpg', '28f20.jpg', '28f25.jpg', '28f30.jpg', '28f35.jpg', '28f40.jpg', '28f45.jpg', '29f0.jpg', '29f5.jpg', '29f10.jpg', '29f15.jpg', '29f20.jpg', '29f25.jpg', '29f30.jpg', '29f35.jpg', '29f40.jpg', '29f45.jpg', '30f0.jpg', '30f5.jpg', '30f10.jpg', '30f15.jpg', '30f20.jpg', '30f25.jpg', '30f30.jpg', '30f35.jpg', '30f40.jpg', '30f45.jpg', '31f0.jpg', '31f5.jpg', '31f10.jpg', '31f15.jpg', '31f20.jpg', '31f25.jpg', '31f30.jpg', '31f35.jpg', '31f40.jpg', '31f45.jpg', '32f0.jpg', '32f5.jpg', '32f10.jpg', '32f15.jpg', '32f20.jpg', '32f25.jpg', '32f30.jpg', '32f35.jpg', '32f40.jpg', '32f45.jpg', '33f0.jpg', '33f5.jpg', '33f10.jpg', '33f15.jpg', '33f20.jpg', '33f25.jpg', '33f30.jpg', '33f35.jpg', '33f40.jpg', '33f45.jpg', '34f0.jpg', '34f5.jpg', '34f10.jpg', '34f15.jpg', '34f20.jpg', '34f25.jpg', '34f30.jpg', '34f35.jpg', '34f40.jpg', '34f45.jpg', '35f0.jpg', '35f5.jpg', '35f10.jpg', '35f15.jpg', '35f20.jpg', '35f25.jpg', '35f30.jpg', '35f35.jpg', '35f40.jpg', '35f45.jpg', '36f0.jpg', '36f5.jpg', '36f10.jpg', '36f15.jpg', '36f20.jpg', '36f25.jpg', '36f30.jpg', '36f35.jpg', '36f40.jpg', '36f45.jpg', '37f0.jpg', '37f5.jpg', '37f10.jpg', '37f15.jpg', '37f20.jpg', '37f25.jpg', '37f30.jpg', '37f35.jpg', '37f40.jpg', '37f45.jpg', '38f0.jpg', '38f5.jpg', '38f10.jpg', '38f15.jpg', '38f20.jpg', '38f25.jpg', '38f30.jpg', '38f35.jpg', '38f40.jpg', '38f45.jpg', '39f0.jpg', '39f5.jpg', '39f10.jpg', '39f15.jpg', '39f20.jpg', '39f25.jpg', '39f30.jpg', '39f35.jpg', '39f40.jpg', '39f45.jpg', '40f0.jpg', '40f5.jpg', '40f10.jpg', '40f15.jpg', '40f20.jpg', '40f25.jpg', '40f30.jpg', '40f35.jpg', '40f40.jpg', '40f45.jpg', '41f0.jpg', '41f5.jpg', '41f10.jpg', '41f15.jpg', '41f20.jpg', '41f25.jpg', '41f30.jpg', '41f35.jpg', '41f40.jpg', '41f45.jpg', '42f0.jpg', '42f5.jpg', '42f10.jpg', '42f15.jpg', '42f20.jpg', '42f25.jpg', '42f30.jpg', '42f35.jpg', '42f40.jpg', '42f45.jpg', '43f0.jpg', '43f5.jpg', '43f10.jpg', '43f15.jpg', '43f20.jpg', '43f25.jpg', '43f30.jpg', '43f35.jpg', '43f40.jpg', '43f45.jpg', '44f0.jpg', '44f5.jpg', '44f10.jpg', '44f15.jpg', '44f20.jpg', '44f25.jpg', '44f30.jpg', '44f35.jpg', '44f40.jpg', '44f45.jpg', '45f0.jpg', '45f5.jpg', '45f10.jpg', '45f15.jpg', '45f20.jpg', '45f25.jpg', '45f30.jpg', '45f35.jpg', '45f40.jpg', '45f45.jpg', '46f0.jpg', '46f5.jpg', '46f10.jpg', '46f15.jpg', '46f20.jpg', '46f25.jpg', '46f30.jpg', '46f35.jpg', '46f40.jpg', '46f45.jpg', '47f0.jpg', '47f5.jpg', '47f10.jpg', '47f15.jpg', '47f20.jpg', '47f25.jpg', '47f30.jpg', '47f35.jpg', '47f40.jpg', '47f45.jpg', '48f0.jpg', '48f5.jpg', '48f10.jpg', '48f15.jpg', '48f20.jpg', '48f25.jpg', '48f30.jpg', '48f35.jpg', '48f40.jpg', '48f45.jpg', '49f0.jpg', '49f5.jpg', '49f10.jpg', '49f15.jpg', '49f20.jpg', '49f25.jpg', '49f30.jpg', '49f35.jpg', '49f40.jpg', '49f45.jpg', '50f0.jpg', '50f5.jpg', '50f10.jpg', '50f15.jpg', '50f20.jpg', '50f25.jpg', '50f30.jpg', '50f35.jpg', '50f40.jpg', '50f45.jpg']\n"
     ]
    }
   ],
   "source": [
    "import numpy as np, os\n",
    "from bounding import *\n",
    "from ipyannotations import images\n",
    "\n",
    "images_list = os.listdir('./images')\n",
    "\n",
    "# Define a custom sorting key\n",
    "def custom_sort(filename):\n",
    "    parts = filename.split('f')\n",
    "    first_number = int(parts[0])\n",
    "    second_number = int(parts[1].split('.')[0])\n",
    "    return (first_number, second_number)\n",
    "\n",
    "# Sort the images_list using the custom sorting key\n",
    "sorted_images_list = sorted(images_list, key=custom_sort)\n",
    "print(sorted_images_list)\n",
    "\n",
    "targets = np.zeros((len(images_list), 4)) \n",
    "\n",
    "widget = images.BoxAnnotator(\n",
    "    options=[\"finger\"],\n",
    "    canvas_size=(700, 500)\n",
    ")\n",
    "\n",
    "def submit_data(data):\n",
    "    frame = images_list[0]\n",
    "    filename = frame.split('.')[0]\n",
    "    \n",
    "    if data is None:\n",
    "        widget.display('images/' + images_list.pop(0))\n",
    "        return\n",
    "    \n",
    "    xyvalues = data[0]['xyxy']\n",
    "    object_data = {\n",
    "        \"name\": filename,\n",
    "        \"truncated\": filename,\n",
    "        \"occluded\": 0,\n",
    "        \"difficult\": 0,\n",
    "        \"bndbox\": {\n",
    "            \"xmin\": xyvalues[0],\n",
    "            \"ymin\": xyvalues[1],\n",
    "            \"xmax\": xyvalues[2],\n",
    "            \"ymax\": xyvalues[3]\n",
    "        }\n",
    "    }\n",
    "    xml = create_annotation_xml('labels', frame, 640, 480, 3, object_data)\n",
    "    save_xml_to_file(xml, 'labels/' + filename + '_annotation.xml')\n",
    "    widget.display('images/' + images_list.pop(0))\n",
    "\n",
    "def skip():\n",
    "    widget.display('images/' + images_list.pop(0))\n",
    "# widget.on_skip(skip)\n",
    "widget.on_submit(submit_data)\n",
    "\n",
    "widget.display('images/' + images_list[0])\n",
    "widget\n"
   ]
  },
  {
   "cell_type": "code",
   "execution_count": null,
   "metadata": {},
   "outputs": [],
   "source": []
  }
 ],
 "metadata": {
  "kernelspec": {
   "display_name": "Python 3 (ipykernel)",
   "language": "python",
   "name": "python3"
  },
  "language_info": {
   "codemirror_mode": {
    "name": "ipython",
    "version": 3
   },
   "file_extension": ".py",
   "mimetype": "text/x-python",
   "name": "python",
   "nbconvert_exporter": "python",
   "pygments_lexer": "ipython3",
   "version": "3.11.4"
  }
 },
 "nbformat": 4,
 "nbformat_minor": 4
}
