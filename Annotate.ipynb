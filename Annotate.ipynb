{
 "cells": [
  {
   "cell_type": "code",
   "execution_count": 1,
   "metadata": {},
   "outputs": [],
   "source": [
    "import imageio\n",
    "def create_images(video_path, frame_step):\n",
    "    for i in range(1, 101):\n",
    "        video = imageio.get_reader(video_path + 'video_' + str(i) + '.mp4')\n",
    "        for j in range(0, int(video.count_frames()), frame_step):\n",
    "            frame = video.get_data(j)\n",
    "        #     # frame = frame[::down_sample_ratio, ::down_sample_ratio, :]\n",
    "            imageio.imwrite('images/' + str(i) + 'f' + str(j) + '.jpg', frame)\n",
    "\n",
    "create_images('./data/finger/', 7)\n",
    "            "
   ]
  },
  {
   "cell_type": "code",
   "execution_count": 44,
   "metadata": {},
   "outputs": [
    {
     "data": {
      "application/vnd.jupyter.widget-view+json": {
       "model_id": "aa8556c80ef24dca80a3c809955ecba9",
       "version_major": 2,
       "version_minor": 0
      },
      "text/plain": [
       "BoxAnnotator(children=(Event(source=BoxAnnotator(children=(...), layout=Layout(width='700px')), throttle_or_de…"
      ]
     },
     "execution_count": 44,
     "metadata": {},
     "output_type": "execute_result"
    },
    {
     "ename": "IndexError",
     "evalue": "list index out of range",
     "output_type": "error",
     "traceback": [
      "\u001b[0;31m---------------------------------------------------------------------------\u001b[0m",
      "\u001b[0;31mIndexError\u001b[0m                                Traceback (most recent call last)",
      "File \u001b[0;32m~/Documents/Github/GIES/lib/python3.11/site-packages/ipyannotations/base.py:90\u001b[0m, in \u001b[0;36mLabellingWidgetMixin.submit\u001b[0;34m(self, sender)\u001b[0m\n\u001b[1;32m     85\u001b[0m     \u001b[38;5;28;01mraise\u001b[39;00m \u001b[38;5;167;01mNotImplementedError\u001b[39;00m(\n\u001b[1;32m     86\u001b[0m         \u001b[38;5;124m\"\u001b[39m\u001b[38;5;124mSubmission for this widget doesn\u001b[39m\u001b[38;5;124m'\u001b[39m\u001b[38;5;124mt seem to be implemented.\u001b[39m\u001b[38;5;124m\"\u001b[39m\n\u001b[1;32m     87\u001b[0m     )\n\u001b[1;32m     89\u001b[0m \u001b[38;5;28;01mfor\u001b[39;00m callback \u001b[38;5;129;01min\u001b[39;00m \u001b[38;5;28mself\u001b[39m\u001b[38;5;241m.\u001b[39msubmission_functions:\n\u001b[0;32m---> 90\u001b[0m     \u001b[43mcallback\u001b[49m\u001b[43m(\u001b[49m\u001b[43mvalue\u001b[49m\u001b[43m)\u001b[49m\n",
      "Cell \u001b[0;32mIn[44], line 19\u001b[0m, in \u001b[0;36msubmit_data\u001b[0;34m(data)\u001b[0m\n\u001b[1;32m     16\u001b[0m frame \u001b[38;5;241m=\u001b[39m images_list[\u001b[38;5;241m0\u001b[39m]\n\u001b[1;32m     17\u001b[0m filename \u001b[38;5;241m=\u001b[39m frame\u001b[38;5;241m.\u001b[39msplit(\u001b[38;5;124m'\u001b[39m\u001b[38;5;124m.\u001b[39m\u001b[38;5;124m'\u001b[39m)[\u001b[38;5;241m0\u001b[39m]\n\u001b[0;32m---> 19\u001b[0m xyvalues \u001b[38;5;241m=\u001b[39m \u001b[43mdata\u001b[49m\u001b[43m[\u001b[49m\u001b[38;5;241;43m0\u001b[39;49m\u001b[43m]\u001b[49m[\u001b[38;5;124m'\u001b[39m\u001b[38;5;124mxyxy\u001b[39m\u001b[38;5;124m'\u001b[39m]\n\u001b[1;32m     20\u001b[0m object_data \u001b[38;5;241m=\u001b[39m {\n\u001b[1;32m     21\u001b[0m     \u001b[38;5;124m\"\u001b[39m\u001b[38;5;124mname\u001b[39m\u001b[38;5;124m\"\u001b[39m: filename,\n\u001b[1;32m     22\u001b[0m     \u001b[38;5;124m\"\u001b[39m\u001b[38;5;124mtruncated\u001b[39m\u001b[38;5;124m\"\u001b[39m: filename,\n\u001b[0;32m   (...)\u001b[0m\n\u001b[1;32m     30\u001b[0m     }\n\u001b[1;32m     31\u001b[0m }\n\u001b[1;32m     32\u001b[0m xml \u001b[38;5;241m=\u001b[39m create_annotation_xml(\u001b[38;5;124m'\u001b[39m\u001b[38;5;124mlabels\u001b[39m\u001b[38;5;124m'\u001b[39m, frame, \u001b[38;5;241m640\u001b[39m, \u001b[38;5;241m480\u001b[39m, \u001b[38;5;241m3\u001b[39m, object_data)\n",
      "\u001b[0;31mIndexError\u001b[0m: list index out of range"
     ]
    }
   ],
   "source": [
    "\n",
    "import numpy as np, os\n",
    "\n",
    "from ipyannotations import images\n",
    "\n",
    "\n",
    "images_list = os.listdir('./images')\n",
    "targets = np.zeros((len(images_list), 4)) \n",
    "\n",
    "\n",
    "widget = images.BoxAnnotator(\n",
    "    options=[\"finger\"],\n",
    "    canvas_size=(700, 500)\n",
    ")\n",
    "\n",
    "def submit_data(data):\n",
    "    frame = images_list[0]\n",
    "    filename = frame.split('.')[0]\n",
    "    \n",
    "    xyvalues = data[0]['xyxy']\n",
    "    object_data = {\n",
    "        \"name\": filename,\n",
    "        \"truncated\": filename,\n",
    "        \"occluded\": 0,\n",
    "        \"difficult\": 0,\n",
    "        \"bndbox\": {\n",
    "            \"xmin\": xyvalues[0],\n",
    "            \"ymin\": xyvalues[1],\n",
    "            \"xmax\": xyvalues[2],\n",
    "            \"ymax\": xyvalues[3]\n",
    "        }\n",
    "    }\n",
    "    xml = create_annotation_xml('labels', frame, 640, 480, 3, object_data)\n",
    "    save_xml_to_file(xml, 'labels/' + filename + '_annotation.xml')\n",
    "    widget.display('images/' + images_list.pop(0))\n",
    "\n",
    "    \n",
    "widget.on_submit(submit_data)\n",
    "\n",
    "widget.display('images/' + images_list[0])\n",
    "widget\n",
    "\n",
    "\n",
    "\n",
    "# for each in targets:\n",
    "#     \n",
    "#     print(\"Annotation saved to annotation.xml\")\n",
    "\n"
   ]
  }
 ],
 "metadata": {
  "kernelspec": {
   "display_name": "Python 3 (ipykernel)",
   "language": "python",
   "name": "python3"
  },
  "language_info": {
   "codemirror_mode": {
    "name": "ipython",
    "version": 3
   },
   "file_extension": ".py",
   "mimetype": "text/x-python",
   "name": "python",
   "nbconvert_exporter": "python",
   "pygments_lexer": "ipython3",
   "version": "3.11.4"
  }
 },
 "nbformat": 4,
 "nbformat_minor": 4
}
