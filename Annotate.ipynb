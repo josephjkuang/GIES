{
 "cells": [
  {
   "cell_type": "code",
   "execution_count": 1,
   "metadata": {},
   "outputs": [],
   "source": [
    "import imageio\n",
    "def create_images(video_path, frame_step):\n",
    "    for i in range(1, 101):\n",
    "        video = imageio.get_reader(video_path + 'video_' + str(i) + '.mp4')\n",
    "        for j in range(0, int(video.count_frames()), frame_step):\n",
    "            frame = video.get_data(j)\n",
    "        #     # frame = frame[::down_sample_ratio, ::down_sample_ratio, :]\n",
    "            imageio.imwrite('images/' + str(i) + 'f' + str(j) + '.jpg', frame)\n",
    "\n",
    "create_images('./data/finger/', 7)\n",
    "            "
   ]
  },
  {
   "cell_type": "code",
   "execution_count": 49,
   "metadata": {},
   "outputs": [
    {
     "data": {
      "application/vnd.jupyter.widget-view+json": {
       "model_id": "074509e8cda64a818631944ac06e9d22",
       "version_major": 2,
       "version_minor": 0
      },
      "text/plain": [
       "BoxAnnotator(children=(Event(source=BoxAnnotator(children=(...), layout=Layout(width='700px')), throttle_or_de…"
      ]
     },
     "execution_count": 49,
     "metadata": {},
     "output_type": "execute_result"
    }
   ],
   "source": [
    "\n",
    "import numpy as np, os\n",
    "\n",
    "from ipyannotations import images\n",
    "\n",
    "\n",
    "images_list = os.listdir('./images')\n",
    "targets = np.zeros((len(images_list), 4)) \n",
    "\n",
    "\n",
    "widget = images.BoxAnnotator(\n",
    "    options=[\"finger\"],\n",
    "    canvas_size=(700, 500)\n",
    ")\n",
    "\n",
    "def submit_data(data):\n",
    "    frame = images_list[0]\n",
    "    filename = frame.split('.')[0]\n",
    "    \n",
    "    if data is None:\n",
    "        widget.display('images/' + images_list.pop(0))\n",
    "        return\n",
    "    \n",
    "    xyvalues = data[0]['xyxy']\n",
    "    object_data = {\n",
    "        \"name\": filename,\n",
    "        \"truncated\": filename,\n",
    "        \"occluded\": 0,\n",
    "        \"difficult\": 0,\n",
    "        \"bndbox\": {\n",
    "            \"xmin\": xyvalues[0],\n",
    "            \"ymin\": xyvalues[1],\n",
    "            \"xmax\": xyvalues[2],\n",
    "            \"ymax\": xyvalues[3]\n",
    "        }\n",
    "    }\n",
    "    xml = create_annotation_xml('labels', frame, 640, 480, 3, object_data)\n",
    "    save_xml_to_file(xml, 'labels/' + filename + '_annotation.xml')\n",
    "    widget.display('images/' + images_list.pop(0))\n",
    "\n",
    "def skip():\n",
    "    widget.display('images/' + images_list.pop(0))\n",
    "# widget.on_skip(skip)\n",
    "widget.on_submit(submit_data)\n",
    "\n",
    "widget.display('images/' + images_list[0])\n",
    "widget\n",
    "\n",
    "\n",
    "\n",
    "# for each in targets:\n",
    "#     \n",
    "#     print(\"Annotation saved to annotation.xml\")\n",
    "\n"
   ]
  }
 ],
 "metadata": {
  "kernelspec": {
   "display_name": "Python 3 (ipykernel)",
   "language": "python",
   "name": "python3"
  },
  "language_info": {
   "codemirror_mode": {
    "name": "ipython",
    "version": 3
   },
   "file_extension": ".py",
   "mimetype": "text/x-python",
   "name": "python",
   "nbconvert_exporter": "python",
   "pygments_lexer": "ipython3",
   "version": "3.11.4"
  }
 },
 "nbformat": 4,
 "nbformat_minor": 4
}
