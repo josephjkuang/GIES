{
 "cells": [
  {
   "cell_type": "code",
   "execution_count": 4,
   "metadata": {},
   "outputs": [],
   "source": [
    "import numpy as np\n",
    "import math\n",
    "import matplotlib.pyplot as plt\n",
    "\n",
    "def polar_to_cartesian(rho, theta):\n",
    "    x = rho * np.cos(theta)\n",
    "    y = rho * np.sin(theta)\n",
    "    \n",
    "    return x, y \n",
    "\n",
    "# Calculate distance of point from line\n",
    "def point_line_distance(x, y, x1, y1, x2, y2):\n",
    "    absolute_dist = np.abs((y2 - y1) * x - (x2 - x1) * y + x2 * y1 - y2 * x1)\n",
    "    normalization = np.sqrt((y2 - y1) ** 2 + (x2 - x1) ** 2)\n",
    "\n",
    "    return absolute_dist / normalization\n",
    "\n",
    "# Split-and-Merge algorithm\n",
    "def split_and_merge(points, start, end, threshold):\n",
    "    # Break case\n",
    "    if start >= end:\n",
    "        return []\n",
    "    \n",
    "    x1, y1 = points[start]\n",
    "    x2, y2 = points[end]\n",
    "    max_dist = 0\n",
    "    farthest_index = start\n",
    "\n",
    "    # Loop through points and find farthest points\n",
    "    for i in range(start + 1, end):\n",
    "        x, y = points[i]\n",
    "        dist = point_line_distance(x, y, x1, y1, x2, y2)\n",
    "        if dist > max_dist:\n",
    "            max_dist = dist\n",
    "            farthest_index = i\n",
    "\n",
    "    # Recurse down\n",
    "    if max_dist > threshold:\n",
    "        # Split step\n",
    "        half1 = split_and_merge(points, start, farthest_index, threshold)\n",
    "        half2 = split_and_merge(points, farthest_index, end, threshold)\n",
    "\n",
    "        # Merge step\n",
    "        return half1 + half2\n",
    "    else:\n",
    "        # Leaf Smallest Entry\n",
    "        return [(start, end)]\n"
   ]
  },
  {
   "cell_type": "code",
   "execution_count": 5,
   "metadata": {},
   "outputs": [
    {
     "name": "stdout",
     "output_type": "stream",
     "text": [
      "[(0, 4), (4, 7), (7, 12), (12, 16)]\n"
     ]
    }
   ],
   "source": [
    "# Test data\n",
    "rhos = np.array([[10, 11, 11.7, 13, 14, 15, 16, 17, 17, 17, 16.5, 17, 17, 16, 14.5, 14, 13]]).T\n",
    "n = rhos.shape[0]\n",
    "thetas = (math.pi / 180) * np.linspace(0, 85, n).reshape(-1, 1)\n",
    "\n",
    "# Convert to Cartesian coordinates\n",
    "xs, ys = polar_to_cartesian(rhos, thetas)\n",
    "points = list(zip(xs.flatten(), ys.flatten()))\n",
    "\n",
    "# Apply Split-and-Merge algorithm\n",
    "line_segments = split_and_merge(points, 0, len(points) - 1, threshold=0.5)\n",
    "\n",
    "print(line_segments)"
   ]
  },
  {
   "cell_type": "code",
   "execution_count": 6,
   "metadata": {},
   "outputs": [
    {
     "name": "stdout",
     "output_type": "stream",
     "text": [
      "[(0, 4), (4, 7), (7, 12), (12, 16)]\n"
     ]
    },
    {
     "data": {
      "image/png": "[encoded data removed]",
      "text/plain": [
       "<Figure size 432x288 with 1 Axes>"
      ]
     },
     "metadata": {
      "needs_background": "light"
     },
     "output_type": "display_data"
    }
   ],
   "source": [
    "# Plotting the results\n",
    "plt.figure()\n",
    "plt.plot(xs, ys, 'go-')  # Original data points\n",
    "\n",
    "for start, end in line_segments:\n",
    "    x1, y1 = points[start]\n",
    "    x2, y2 = points[end]\n",
    "    plt.plot([x1, x2], [y1, y2], 'r')\n",
    "\n",
    "print(line_segments)\n",
    "\n",
    "plt.xlabel('x')\n",
    "plt.ylabel('y')\n",
    "plt.title('Split and Merge Line Fitting Algorithm')\n",
    "plt.show()\n"
   ]
  },
  {
   "cell_type": "code",
   "execution_count": null,
   "metadata": {},
   "outputs": [],
   "source": []
  }
 ],
 "metadata": {
  "kernelspec": {
   "display_name": "Python 3",
   "language": "python",
   "name": "python3"
  },
  "language_info": {
   "codemirror_mode": {
    "name": "ipython",
    "version": 3
   },
   "file_extension": ".py",
   "mimetype": "text/x-python",
   "name": "python",
   "nbconvert_exporter": "python",
   "pygments_lexer": "ipython3",
   "version": "3.8.5"
  },
  "orig_nbformat": 4
 },
 "nbformat": 4,
 "nbformat_minor": 2
}
